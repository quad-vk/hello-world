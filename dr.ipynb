{
 "cells": [
  {
   "cell_type": "code",
   "execution_count": 6,
   "metadata": {
    "collapsed": true
   },
   "outputs": [],
   "source": [
    "import pandas as pd\n",
    "import json\n",
    "import requests\n",
    "import qgrid\n",
    "import datetime as dt\n",
    "qgrid.nbinstall(overwrite=True)"
   ]
  },
  {
   "cell_type": "code",
   "execution_count": 45,
   "metadata": {
    "collapsed": true
   },
   "outputs": [],
   "source": [
    "urls = list(range(1, 91))\n",
    "urls.insert(0, 'index')"
   ]
  },
  {
   "cell_type": "code",
   "execution_count": 49,
   "metadata": {
    "collapsed": false
   },
   "outputs": [],
   "source": [
    "threads = []\n",
    "for u in urls:\n",
    "    try:\n",
    "        r = requests.get('http://2ch.hk/dr/' + str(u) + '.json')\n",
    "        j = json.loads(r.text)\n",
    "        for thread in j['threads']:\n",
    "            threads.append([thread['posts'][0]['num'], thread['posts'][0]['name'], thread['posts'][0]['subject'], \n",
    "                            thread['posts'][0]['trip'], \n",
    "                            thread['posts'][0]['timestamp'], thread['posts'][-1]['timestamp'], thread['posts_count']])\n",
    "    except Exception:\n",
    "        break"
   ]
  },
  {
   "cell_type": "code",
   "execution_count": 55,
   "metadata": {
    "collapsed": false
   },
   "outputs": [],
   "source": [
    "data = pd.DataFrame(threads, columns = ['num', 'name', 'subject', 'trip', 'open_date', 'last_date', 'posts'])\n",
    "\n",
    "data['open'] = data['open_date'].apply(lambda x: pd.to_datetime(dt.datetime.fromtimestamp(x)))\n",
    "data['last'] = data['last_date'].apply(lambda x: pd.to_datetime(dt.datetime.fromtimestamp(x)))\n",
    "\n",
    "data = data.set_index('num')\n",
    "data.index = data.index.astype(int)\n",
    "data['count'] = 1\n",
    "data = data.drop(['open_date', 'last_date', 'count'], axis = 1)\n",
    "data['duration'] = (data['last'] - data['open']).dt.days\n",
    "data = data.sort_values('open')"
   ]
  },
  {
   "cell_type": "code",
   "execution_count": null,
   "metadata": {
    "collapsed": false
   },
   "outputs": [],
   "source": []
  },
  {
   "cell_type": "code",
   "execution_count": 56,
   "metadata": {
    "collapsed": false
   },
   "outputs": [],
   "source": [
    "qgrid.show_grid(data)"
   ]
  },
  {
   "cell_type": "code",
   "execution_count": null,
   "metadata": {
    "collapsed": false
   },
   "outputs": [],
   "source": []
  },
  {
   "cell_type": "code",
   "execution_count": null,
   "metadata": {
    "collapsed": false
   },
   "outputs": [],
   "source": []
  },
  {
   "cell_type": "code",
   "execution_count": null,
   "metadata": {
    "collapsed": true
   },
   "outputs": [],
   "source": []
  },
  {
   "cell_type": "code",
   "execution_count": null,
   "metadata": {
    "collapsed": false
   },
   "outputs": [],
   "source": []
  },
  {
   "cell_type": "code",
   "execution_count": null,
   "metadata": {
    "collapsed": true
   },
   "outputs": [],
   "source": []
  }
 ],
 "metadata": {
  "kernelspec": {
   "display_name": "Python [conda root]",
   "language": "python",
   "name": "conda-root-py"
  },
  "language_info": {
   "codemirror_mode": {
    "name": "ipython",
    "version": 3
   },
   "file_extension": ".py",
   "mimetype": "text/x-python",
   "name": "python",
   "nbconvert_exporter": "python",
   "pygments_lexer": "ipython3",
   "version": "3.5.2"
  },
  "widgets": {
   "state": {
    "26372ac627364501ad228f8069b25a89": {
     "views": [
      {
       "cell_index": 5
      }
     ]
    },
    "939c6c63105e46c4bce32b9ca1f7f433": {
     "views": [
      {
       "cell_index": 6
      }
     ]
    }
   },
   "version": "1.2.0"
  }
 },
 "nbformat": 4,
 "nbformat_minor": 2
}
