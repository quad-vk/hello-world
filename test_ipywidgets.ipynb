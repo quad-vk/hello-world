{
 "cells": [
  {
   "cell_type": "code",
   "execution_count": 3,
   "metadata": {
    "collapsed": true
   },
   "outputs": [],
   "source": [
    "import ipywidgets as w\n",
    "from IPython.display import display"
   ]
  },
  {
   "cell_type": "code",
   "execution_count": 6,
   "metadata": {
    "collapsed": false
   },
   "outputs": [],
   "source": [
    "a = w.FloatText()\n",
    "b = w.FloatSlider()\n",
    "display(a, b)\n",
    "mylink = w.jslink((a, 'value'), (b, 'value'))"
   ]
  },
  {
   "cell_type": "code",
   "execution_count": null,
   "metadata": {
    "collapsed": true
   },
   "outputs": [],
   "source": []
  }
 ],
 "metadata": {
  "kernelspec": {
   "display_name": "Python [conda root]",
   "language": "python",
   "name": "conda-root-py"
  },
  "language_info": {
   "codemirror_mode": {
    "name": "ipython",
    "version": 3
   },
   "file_extension": ".py",
   "mimetype": "text/x-python",
   "name": "python",
   "nbconvert_exporter": "python",
   "pygments_lexer": "ipython3",
   "version": "3.5.2"
  },
  "widgets": {
   "state": {
    "0080847d59d74f87b40c802793ff8839": {
     "views": [
      {
       "cell_index": 1
      }
     ]
    },
    "3f2c701e68b9430697dda92dcf089f3e": {
     "views": [
      {
       "cell_index": 1
      }
     ]
    },
    "5535d25daf834136bc054c5e2b2df764": {
     "views": [
      {
       "cell_index": 1
      }
     ]
    },
    "f12aaabf5d4a4e70808b3db19cbe23e8": {
     "views": [
      {
       "cell_index": 1
      }
     ]
    }
   },
   "version": "1.2.0"
  }
 },
 "nbformat": 4,
 "nbformat_minor": 2
}
